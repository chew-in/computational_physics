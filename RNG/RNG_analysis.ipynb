{
 "cells": [
  {
   "cell_type": "code",
   "execution_count": 26,
   "id": "634c336c",
   "metadata": {},
   "outputs": [],
   "source": [
    "import pandas as pd\n",
    "import matplotlib.pyplot as plt\n",
    "data = pd.read_csv('rndtest.out1', header=None, names=['col1'])"
   ]
  },
  {
   "cell_type": "code",
   "execution_count": 27,
   "id": "477a7e8a",
   "metadata": {},
   "outputs": [],
   "source": [
    "df = pd.DataFrame(data)"
   ]
  },
  {
   "cell_type": "code",
   "execution_count": 28,
   "id": "8104faf3",
   "metadata": {},
   "outputs": [
    {
     "data": {
      "text/plain": [
       "0                   1   79.0000000       10.0000000    \n",
       "1                   2   124.000000       10.0000000    \n",
       "2                   3   105.000000       10.0000000    \n",
       "3                   4   100.000000       10.0000000    \n",
       "4                   5   92.0000000       10.0000000    \n",
       "                              ...                      \n",
       "99995           99996   102.000000       10.0000000    \n",
       "99996           99997   112.000000       10.0000000    \n",
       "99997           99998   106.000000       10.0000000    \n",
       "99998           99999   95.0000000       10.0000000    \n",
       "99999          100000   98.0000000       10.0000000    \n",
       "Name: col1, Length: 100000, dtype: object"
      ]
     },
     "execution_count": 28,
     "metadata": {},
     "output_type": "execute_result"
    }
   ],
   "source": [
    "df['col1']"
   ]
  },
  {
   "cell_type": "code",
   "execution_count": 30,
   "id": "04e380ac",
   "metadata": {},
   "outputs": [],
   "source": [
    "df[['bin#', 'hits', 'std']] = df['col1'].str.split(expand=True)\n",
    "\n",
    "# Convert the columns to appropriate numeric types if needed\n",
    "df['bin#'] = df['bin#'].astype(int)\n",
    "df['hits'] = df['hits'].astype(float)\n",
    "df['stde'] = df['std'].astype(float)\n",
    "\n",
    "df.drop(columns=['col1'], inplace=True)"
   ]
  },
  {
   "cell_type": "code",
   "execution_count": 31,
   "id": "485b03d3",
   "metadata": {},
   "outputs": [
    {
     "data": {
      "text/html": [
       "<div>\n",
       "<style scoped>\n",
       "    .dataframe tbody tr th:only-of-type {\n",
       "        vertical-align: middle;\n",
       "    }\n",
       "\n",
       "    .dataframe tbody tr th {\n",
       "        vertical-align: top;\n",
       "    }\n",
       "\n",
       "    .dataframe thead th {\n",
       "        text-align: right;\n",
       "    }\n",
       "</style>\n",
       "<table border=\"1\" class=\"dataframe\">\n",
       "  <thead>\n",
       "    <tr style=\"text-align: right;\">\n",
       "      <th></th>\n",
       "      <th>bin#</th>\n",
       "      <th>hits</th>\n",
       "      <th>std</th>\n",
       "      <th>stde</th>\n",
       "    </tr>\n",
       "  </thead>\n",
       "  <tbody>\n",
       "    <tr>\n",
       "      <th>0</th>\n",
       "      <td>1</td>\n",
       "      <td>79.0</td>\n",
       "      <td>10.0000000</td>\n",
       "      <td>10.0</td>\n",
       "    </tr>\n",
       "    <tr>\n",
       "      <th>1</th>\n",
       "      <td>2</td>\n",
       "      <td>124.0</td>\n",
       "      <td>10.0000000</td>\n",
       "      <td>10.0</td>\n",
       "    </tr>\n",
       "    <tr>\n",
       "      <th>2</th>\n",
       "      <td>3</td>\n",
       "      <td>105.0</td>\n",
       "      <td>10.0000000</td>\n",
       "      <td>10.0</td>\n",
       "    </tr>\n",
       "    <tr>\n",
       "      <th>3</th>\n",
       "      <td>4</td>\n",
       "      <td>100.0</td>\n",
       "      <td>10.0000000</td>\n",
       "      <td>10.0</td>\n",
       "    </tr>\n",
       "    <tr>\n",
       "      <th>4</th>\n",
       "      <td>5</td>\n",
       "      <td>92.0</td>\n",
       "      <td>10.0000000</td>\n",
       "      <td>10.0</td>\n",
       "    </tr>\n",
       "  </tbody>\n",
       "</table>\n",
       "</div>"
      ],
      "text/plain": [
       "   bin#   hits         std  stde\n",
       "0     1   79.0  10.0000000  10.0\n",
       "1     2  124.0  10.0000000  10.0\n",
       "2     3  105.0  10.0000000  10.0\n",
       "3     4  100.0  10.0000000  10.0\n",
       "4     5   92.0  10.0000000  10.0"
      ]
     },
     "execution_count": 31,
     "metadata": {},
     "output_type": "execute_result"
    }
   ],
   "source": [
    "df.head()"
   ]
  },
  {
   "cell_type": "code",
   "execution_count": 33,
   "id": "881095f9",
   "metadata": {},
   "outputs": [
    {
     "data": {
      "image/png": "[encoded data removed]",
      "text/plain": [
       "<Figure size 432x288 with 1 Axes>"
      ]
     },
     "metadata": {
      "needs_background": "light"
     },
     "output_type": "display_data"
    }
   ],
   "source": [
    "# Create a line plot of data\n",
    "plt.scatter(df['bin#'], df['hits'])\n",
    "plt.xlabel('X-Axis Label')\n",
    "plt.ylabel('Y-Axis Label')\n",
    "plt.title('Your Plot Title')\n",
    "plt.show()\n"
   ]
  },
  {
   "cell_type": "code",
   "execution_count": 15,
   "id": "f5598ce2",
   "metadata": {
    "scrolled": true
   },
   "outputs": [
    {
     "data": {
      "text/plain": [
       "0               1   79.0000000       10.0000000    \n",
       "1               2   124.000000       10.0000000    \n",
       "2               3   105.000000       10.0000000    \n",
       "3               4   100.000000       10.0000000    \n",
       "4               5   92.0000000       10.0000000    \n",
       "5               6   110.000000       10.0000000    \n",
       "6               7   91.0000000       10.0000000    \n",
       "7               8   93.0000000       10.0000000    \n",
       "8               9   66.0000000       10.0000000    \n",
       "9              10   111.000000       10.0000000    \n",
       "Name: Bin#, dtype: object"
      ]
     },
     "execution_count": 15,
     "metadata": {},
     "output_type": "execute_result"
    }
   ],
   "source": [
    "data[:10]['Bin#']"
   ]
  },
  {
   "cell_type": "code",
   "execution_count": null,
   "id": "97050d8b",
   "metadata": {},
   "outputs": [],
   "source": []
  }
 ],
 "metadata": {
  "kernelspec": {
   "display_name": "Python 3 (ipykernel)",
   "language": "python",
   "name": "python3"
  },
  "language_info": {
   "codemirror_mode": {
    "name": "ipython",
    "version": 3
   },
   "file_extension": ".py",
   "mimetype": "text/x-python",
   "name": "python",
   "nbconvert_exporter": "python",
   "pygments_lexer": "ipython3",
   "version": "3.9.12"
  }
 },
 "nbformat": 4,
 "nbformat_minor": 5
}
