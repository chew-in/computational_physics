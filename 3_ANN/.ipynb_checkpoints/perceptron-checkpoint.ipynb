{
 "cells": [
  {
   "cell_type": "code",
   "execution_count": 3,
   "id": "a07121ff",
   "metadata": {},
   "outputs": [],
   "source": [
    "import numpy as np\n",
    "import pandas as pd\n",
    "import scipy.stats as stats\n",
    "import random\n",
    "\n",
    "import math\n",
    "import time\n",
    "\n",
    "import matplotlib.pyplot as plt\n",
    "from matplotlib.font_manager import FontProperties\n",
    "from matplotlib.ticker import StrMethodFormatter"
   ]
  },
  {
   "cell_type": "markdown",
   "id": "2ca8a3ec",
   "metadata": {},
   "source": [
    "## Single-layer Perceptron for Equivalence Logic"
   ]
  },
  {
   "cell_type": "code",
   "execution_count": 14,
   "id": "a563e328",
   "metadata": {},
   "outputs": [],
   "source": [
    "# x1, x2, x3\n",
    "X_train = np.array([[0, 0, 1], [0, 1, 1], [1, 0, 1], [1, 1, 1]]) #4x3\n",
    "y_train = np.array([0, 1, 1, 0])\n",
    "X_test = np.array([[0, 0, 0], [0, 1, 0], [1, 0, 0], [1, 1, 0]])\n",
    "y_test = np.array([0, 1, 1, 0])"
   ]
  },
  {
   "cell_type": "code",
   "execution_count": 4,
   "id": "9c737404",
   "metadata": {},
   "outputs": [],
   "source": [
    "def sigmoid(x):\n",
    "    return 1 / (1 + math.e ** (-x))"
   ]
  },
  {
   "cell_type": "code",
   "execution_count": 36,
   "id": "1ee411a5",
   "metadata": {},
   "outputs": [],
   "source": [
    "# initialize weights randomly\n",
    "W = np.array([random.uniform(-1, 1) for _ in range(len(X_train[0]))]) # 3x1\n",
    "# net input, predicted output\n",
    "X_net = np.dot(W, np.transpose(X_train)) # 4x1\n",
    "\n",
    "# learning\n",
    "alpha = 1\n",
    "flag_sigmoid = True\n",
    "\n",
    "if flag_sigmoid:\n",
    "    y_pred = np.array([sigmoid(x) for x in X_net]) # 4x1\n",
    "    delta = np.array([(y_pred - y_test) * y_pred * (1 - y_pred)]) # 4x1, point multiplication\n",
    "else:\n",
    "#              tanh\n",
    "    y_pred = np.array([math.tanh(x) for x in X_net])\n",
    "    delta = np.array([(y_pred - y_test) * (1 - y_pred ** 2)]) # 4x1, point multiplication\n",
    "\n",
    "dW = - alpha * np.dot(np.transpose(X_train), np.transpose(delta))\n",
    "W_new = W + dW"
   ]
  },
  {
   "cell_type": "code",
   "execution_count": 34,
   "id": "e18775d1",
   "metadata": {},
   "outputs": [
    {
     "data": {
      "text/plain": [
       "(4, 3)"
      ]
     },
     "execution_count": 34,
     "metadata": {},
     "output_type": "execute_result"
    }
   ],
   "source": [
    "# iterations\n",
    "N = 100000\n",
    "for i in range(N):\n",
    "    d"
   ]
  },
  {
   "cell_type": "code",
   "execution_count": 35,
   "id": "5f0c2e95",
   "metadata": {},
   "outputs": [
    {
     "data": {
      "text/plain": [
       "(1, 4)"
      ]
     },
     "execution_count": 35,
     "metadata": {},
     "output_type": "execute_result"
    }
   ],
   "source": [
    "delta.shape"
   ]
  },
  {
   "cell_type": "code",
   "execution_count": null,
   "id": "d5021002",
   "metadata": {},
   "outputs": [],
   "source": []
  },
  {
   "cell_type": "markdown",
   "id": "1cb96790",
   "metadata": {},
   "source": [
    "## Compare Transfer Functions"
   ]
  },
  {
   "cell_type": "code",
   "execution_count": null,
   "id": "14dafbac",
   "metadata": {},
   "outputs": [],
   "source": []
  },
  {
   "cell_type": "markdown",
   "id": "73131ad2",
   "metadata": {},
   "source": [
    "## Learning Rate"
   ]
  },
  {
   "cell_type": "code",
   "execution_count": null,
   "id": "560e19ca",
   "metadata": {},
   "outputs": [],
   "source": []
  },
  {
   "cell_type": "code",
   "execution_count": null,
   "id": "a96b5634",
   "metadata": {},
   "outputs": [],
   "source": []
  },
  {
   "cell_type": "code",
   "execution_count": null,
   "id": "f5a0379c",
   "metadata": {},
   "outputs": [],
   "source": []
  },
  {
   "cell_type": "markdown",
   "id": "69f9ba15",
   "metadata": {},
   "source": [
    "## Double-layer Perceptron for XOR Logic"
   ]
  },
  {
   "cell_type": "code",
   "execution_count": null,
   "id": "6ec967a6",
   "metadata": {},
   "outputs": [],
   "source": []
  },
  {
   "cell_type": "code",
   "execution_count": null,
   "id": "62bbca1b",
   "metadata": {},
   "outputs": [],
   "source": []
  },
  {
   "cell_type": "code",
   "execution_count": null,
   "id": "161aa86c",
   "metadata": {},
   "outputs": [],
   "source": []
  },
  {
   "cell_type": "code",
   "execution_count": null,
   "id": "6f12fa51",
   "metadata": {},
   "outputs": [],
   "source": []
  }
 ],
 "metadata": {
  "kernelspec": {
   "display_name": "Python 3 (ipykernel)",
   "language": "python",
   "name": "python3"
  },
  "language_info": {
   "codemirror_mode": {
    "name": "ipython",
    "version": 3
   },
   "file_extension": ".py",
   "mimetype": "text/x-python",
   "name": "python",
   "nbconvert_exporter": "python",
   "pygments_lexer": "ipython3",
   "version": "3.9.12"
  }
 },
 "nbformat": 4,
 "nbformat_minor": 5
}
