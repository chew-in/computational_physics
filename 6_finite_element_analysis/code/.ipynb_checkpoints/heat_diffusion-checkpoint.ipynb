{
 "cells": [
  {
   "cell_type": "code",
   "execution_count": 1,
   "id": "82f24500",
   "metadata": {},
   "outputs": [],
   "source": [
    "import numpy as np\n",
    "import scipy.stats as stats\n",
    "import random\n",
    "\n",
    "import math\n",
    "\n",
    "import matplotlib.pyplot as plt\n",
    "from matplotlib.font_manager import FontProperties\n",
    "from matplotlib.ticker import StrMethodFormatter\n",
    "from matplotlib.ticker import ScalarFormatter"
   ]
  },
  {
   "cell_type": "code",
   "execution_count": 4,
   "id": "9a058e05",
   "metadata": {},
   "outputs": [],
   "source": [
    "D = 0.002 # thermal diffusion coefficient, cm^2/s\n",
    "X = Y = 9 # size of vessel\n",
    "delta_xy = 1 # cm, for either x, y\n",
    "delta_t = 100 # s"
   ]
  },
  {
   "cell_type": "code",
   "execution_count": 5,
   "id": "e6523d87",
   "metadata": {},
   "outputs": [],
   "source": [
    "def temp_evolution(H):\n",
    "    # initialization\n",
    "    alpha = 15 / (H * 3600) # slope of time step, will make this a variable \n",
    "    T = int(H * 3600 / delta_t) # total time steps\n",
    "    temp_grid = np.zeros((T+1, X, Y))\n",
    "    temp_maxs = np.zeros(T+1)\n",
    "    temp_mins = np.zeros(T+1)\n",
    "    temp_gradients = np.zeros(T+1)\n",
    "\n",
    "    for t in range(1, T):\n",
    "    #     rim\n",
    "        new_bath_temp = alpha * t * delta_t\n",
    "        print(new_bath_temp)\n",
    "        temp_grid[t, 0, :]   = new_bath_temp\n",
    "        temp_grid[t, -1, :]  = new_bath_temp\n",
    "        temp_grid[t, :, 0]   = new_bath_temp\n",
    "        temp_grid[t, :, -1]  = new_bath_temp\n",
    "    #     central pieces\n",
    "        for i in range(1, X-1):\n",
    "            for j in range(1, Y-1):\n",
    "                delta_total = temp_grid[t-1, i-1, j] + temp_grid[t-1, i+1, j] \\\n",
    "                            + temp_grid[t-1, i, j-1] + temp_grid[t-1, i, j+1] \\\n",
    "                            - 4 * temp_grid[t-1, i, j]\n",
    "                temp_grid[t, i, j] = temp_grid[t-1, i, j] \\\n",
    "                                   + D / (delta_xy ** 2) * delta_total * delta_t\n",
    "        temp_gradient = np.max(temp_grid[t, :, :]) - np.min(temp_grid[t, :, :])\n",
    "        temp_maxs[t] = np.max(temp_grid[t, :, :])\n",
    "        temp_mins[t] = np.min(temp_grid[t, :, :])\n",
    "        temp_gradients[t] = temp_gradient\n",
    "        \n",
    "        plt.imshow(temp_grid[t])\n",
    "        plt.axis('off')  # Optional: Turn off axis labels\n",
    "        plt.show()\n",
    "        \n",
    "    return temp_gradients, temp_grid\n",
    "    "
   ]
  },
  {
   "cell_type": "code",
   "execution_count": null,
   "id": "6006c378",
   "metadata": {},
   "outputs": [],
   "source": [
    "# plotting \n",
    "# plot all three cases together.\n",
    "fig = plt.figure(figsize=(10, 8))\n",
    "ax = plt.gca()\n",
    "\n",
    "for H in range(1, 15):\n",
    "    temp_gradients, temp_grid = temp_evolution(H)\n",
    "    \n",
    "ax.plot(trials, estimated_pis, \\\n",
    "            color=tableau_colors[0], linewidth=2.0, \\\n",
    "            alpha=1, label='Estimated value')\n",
    "\n",
    "# Customize tick sizes\n",
    "ax.tick_params(axis='both', which='major', labelsize=18, length=6)  # Adjust label size and tick length\n",
    "# ax.set_ylim(2, 4)\n",
    "ax.set_xticklabels(ax.get_xticks(), fontdict=tick_font)\n",
    "ax.set_yticklabels(ax.get_yticks(), fontdict=tick_font)\n",
    "ax.xaxis.set_major_formatter(StrMethodFormatter('{x:.0f}'))\n",
    "ax.yaxis.set_major_formatter(StrMethodFormatter('{x:.2f}'))\n",
    "ax.axhline(y=np.pi, color=tableau_colors[3], linestyle='--', label='True value')\n",
    "\n",
    "# Customize the plot (optional)\n",
    "plt.xlabel('Number of Trials', fontdict=font)\n",
    "plt.ylabel('Estimate of pi', fontdict=font)\n",
    "plt.gcf().set_facecolor('white')\n",
    "fig.suptitle('Estimated Value vs Trial', fontproperties=suptitle_font, y=0.93)\n",
    "plt.legend(loc='upper right', prop=legend_font)\n",
    "\n",
    "# Show the plot\n",
    "plt.savefig('../plots/pi_on_estimate.png')\n",
    "plt.show()\n"
   ]
  },
  {
   "cell_type": "code",
   "execution_count": null,
   "id": "cf6551fd",
   "metadata": {},
   "outputs": [],
   "source": []
  },
  {
   "cell_type": "code",
   "execution_count": null,
   "id": "7e8399ff",
   "metadata": {},
   "outputs": [],
   "source": []
  },
  {
   "cell_type": "code",
   "execution_count": null,
   "id": "816a1098",
   "metadata": {},
   "outputs": [],
   "source": []
  }
 ],
 "metadata": {
  "kernelspec": {
   "display_name": "Python 3 (ipykernel)",
   "language": "python",
   "name": "python3"
  },
  "language_info": {
   "codemirror_mode": {
    "name": "ipython",
    "version": 3
   },
   "file_extension": ".py",
   "mimetype": "text/x-python",
   "name": "python",
   "nbconvert_exporter": "python",
   "pygments_lexer": "ipython3",
   "version": "3.9.12"
  }
 },
 "nbformat": 4,
 "nbformat_minor": 5
}
