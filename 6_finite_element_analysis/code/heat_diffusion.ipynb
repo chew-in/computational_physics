{
 "cells": [
  {
   "cell_type": "code",
   "execution_count": 1,
   "id": "82f24500",
   "metadata": {},
   "outputs": [],
   "source": [
    "import numpy as np\n",
    "import scipy.stats as stats\n",
    "import random\n",
    "\n",
    "import math\n",
    "from scipy.optimize import curve_fit\n",
    "\n",
    "import matplotlib.pyplot as plt\n",
    "from matplotlib.font_manager import FontProperties\n",
    "from matplotlib.ticker import StrMethodFormatter\n",
    "from matplotlib.ticker import ScalarFormatter"
   ]
  },
  {
   "cell_type": "code",
   "execution_count": 7,
   "id": "8ac93795",
   "metadata": {},
   "outputs": [],
   "source": [
    "D = 0.002 # thermal diffusion coefficient, cm^2/s\n",
    "X = Y = 9 # size of vessel\n",
    "T = 15 # total temperature to ramp over, C\n",
    "delta_x = 1 # cm\n",
    "delta_y = 1 # cm\n",
    "delta_t = 100 # s"
   ]
  },
  {
   "cell_type": "code",
   "execution_count": 8,
   "id": "4ee5e1f1",
   "metadata": {},
   "outputs": [],
   "source": [
    "def temp_evolution():\n",
    "    \"\"\"temperature of idx, jdy, ndt\"\"\"\n",
    "#     initialization\n",
    "    temp_grid = np.zeros((X, Y))\n",
    "    return temp_grid"
   ]
  },
  {
   "cell_type": "code",
   "execution_count": 10,
   "id": "7f8f74cb",
   "metadata": {},
   "outputs": [
    {
     "data": {
      "text/plain": [
       "array([[0., 0., 0., 0., 0., 0., 0., 0., 0.],\n",
       "       [0., 0., 0., 0., 0., 0., 0., 0., 0.],\n",
       "       [0., 0., 0., 0., 0., 0., 0., 0., 0.],\n",
       "       [0., 0., 0., 0., 0., 0., 0., 0., 0.],\n",
       "       [0., 0., 0., 0., 0., 0., 0., 0., 0.],\n",
       "       [0., 0., 0., 0., 0., 0., 0., 0., 0.],\n",
       "       [0., 0., 0., 0., 0., 0., 0., 0., 0.],\n",
       "       [0., 0., 0., 0., 0., 0., 0., 0., 0.],\n",
       "       [0., 0., 0., 0., 0., 0., 0., 0., 0.]])"
      ]
     },
     "execution_count": 10,
     "metadata": {},
     "output_type": "execute_result"
    }
   ],
   "source": [
    "temp_evolution()"
   ]
  },
  {
   "cell_type": "code",
   "execution_count": null,
   "id": "8c083cee",
   "metadata": {},
   "outputs": [],
   "source": []
  }
 ],
 "metadata": {
  "kernelspec": {
   "display_name": "Python 3 (ipykernel)",
   "language": "python",
   "name": "python3"
  },
  "language_info": {
   "codemirror_mode": {
    "name": "ipython",
    "version": 3
   },
   "file_extension": ".py",
   "mimetype": "text/x-python",
   "name": "python",
   "nbconvert_exporter": "python",
   "pygments_lexer": "ipython3",
   "version": "3.9.12"
  }
 },
 "nbformat": 4,
 "nbformat_minor": 5
}
